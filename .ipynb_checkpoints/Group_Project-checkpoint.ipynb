{
 "cells": [
  {
   "cell_type": "markdown",
   "id": "61afd74c-b619-4063-a10c-9f3df4161d1f",
   "metadata": {},
   "source": [
    "# Keeping your finger on the pulse: an at-home predictive model of heart disease"
   ]
  },
  {
   "cell_type": "markdown",
   "id": "779c9069-9d99-4144-9520-b411f6a35225",
   "metadata": {},
   "source": [
    "## Introduction"
   ]
  },
  {
   "cell_type": "markdown",
   "id": "2d28aded-ee55-4772-b4fd-b65869644d52",
   "metadata": {},
   "source": [
    "According to the WHO, heart disease is one of the leading causes of death in the world. 1/3 of these deaths occur in people under 70 years old. Many of the deaths could have been prevented if the diagnosis and treatment had come sooner. \n",
    "\n"
   ]
  },
  {
   "cell_type": "markdown",
   "id": "efaca443-490f-4087-b09b-c7d5502b8f27",
   "metadata": {},
   "source": [
    "In order to diagnose heart disease earlier, we want to train a model allowing people to make self-measurements ‘at home’, input them, and determine if they may be at risk for heart disease. With this information, they may be more likely to seek care from a specialist who can confirm a diagnosis. "
   ]
  },
  {
   "cell_type": "markdown",
   "id": "97ee8a81-faeb-477a-8d53-f73a0da6df04",
   "metadata": {},
   "source": [
    "<font size=\"2\">Source: https://www.who.int/health-topics/cardiovascular-diseases#tab=tab_1</font>"
   ]
  },
  {
   "cell_type": "markdown",
   "id": "7674327c-9c8e-458a-bd72-e7aa5c26f9b0",
   "metadata": {},
   "source": [
    "Data were collected from Cleveland, Hungary, Switzerland, and the VA Long Beach. The dataset consists of 303 instances and the following variables: Age, Sex, Chest Pain, Resting Blood Pressure, Serum Cholesterol,  Resting Electrocardiographic Results, Maximum Heart Rate Achieved, Exercise Induced Angina, ST Depression Induced by Exercise Relative to Rest, Diagnosis of Heart Disease.\n",
    "</br>\n",
    "Diagnosis of Heart Disease: 0 represents no heart disease, and 1, 2, 3, 4 each represent higher levels of heart disease. \n"
   ]
  },
  {
   "cell_type": "markdown",
   "id": "7db40ac3-dce1-4f8d-88ef-aeffd072dc95",
   "metadata": {},
   "source": [
    "## Preliminary Exploratory Data Analysis"
   ]
  },
  {
   "cell_type": "code",
   "execution_count": null,
   "id": "7cec163c-8b5b-43ff-a515-862213e2ba87",
   "metadata": {
    "tags": []
   },
   "outputs": [],
   "source": [
    "pip install ucimlrepo"
   ]
  },
  {
   "cell_type": "code",
   "execution_count": null,
   "id": "3454893a-f402-481c-a89d-b6e1507a1259",
   "metadata": {
    "tags": []
   },
   "outputs": [],
   "source": [
    "import numpy as np\n",
    "import pandas as pd\n",
    "import matplotlib.pyplot as plt\n",
    "import seaborn as sns\n",
    "from sklearn.model_selection import GridSearchCV, cross_validate, train_test_split"
   ]
  },
  {
   "cell_type": "code",
   "execution_count": null,
   "id": "c3b8fcb7-206f-462d-bb79-9baed6a4f155",
   "metadata": {
    "tags": []
   },
   "outputs": [],
   "source": [
    "from ucimlrepo import fetch_ucirepo \n",
    "  \n",
    "# fetch dataset \n",
    "heart_disease = fetch_ucirepo(id=45) \n",
    "  \n",
    "# data (as pandas dataframes) \n",
    "X = heart_disease.data.features \n",
    "y = heart_disease.data.targets \n",
    "  \n",
    "# metadata \n",
    "print(heart_disease.metadata) \n",
    "  \n",
    "# variable information \n",
    "print(heart_disease.variables) "
   ]
  },
  {
   "cell_type": "markdown",
   "id": "b61bd0bd-b19f-4def-b186-41a1401ec3c0",
   "metadata": {},
   "source": [
    "### Reading Data From Web"
   ]
  },
  {
   "cell_type": "code",
   "execution_count": null,
   "id": "ef18b7f1-d27b-44a3-a6b7-d877f67641d6",
   "metadata": {
    "tags": []
   },
   "outputs": [],
   "source": [
    "heart_df = pd.read_csv(\"https://archive.ics.uci.edu/static/public/45/data.csv\")"
   ]
  },
  {
   "cell_type": "code",
   "execution_count": null,
   "id": "ec3e1048-5d1b-43b6-bb27-fa44f6802c50",
   "metadata": {
    "tags": []
   },
   "outputs": [],
   "source": [
    "heart_df"
   ]
  },
  {
   "cell_type": "markdown",
   "id": "0d5d57e6-6073-4584-9d77-08b5d607d770",
   "metadata": {},
   "source": [
    "### Data Summary"
   ]
  },
  {
   "cell_type": "code",
   "execution_count": null,
   "id": "fc37f0b3-dc24-4483-a816-79d4c7540528",
   "metadata": {},
   "outputs": [],
   "source": [
    "columns = heart_df.columns.to_list()\n",
    "columns"
   ]
  },
  {
   "cell_type": "markdown",
   "id": "8a8f5e9b-fa03-4f61-ad71-a686a27449c0",
   "metadata": {
    "tags": []
   },
   "source": [
    "| ID |Description|\n",
    "| --- | --- |\n",
    "| age | Age of Patient |\n",
    "| sex | Sex of Patient |\n",
    "| cp | Chest Pain Type  ,1: typical angina ,2: atypical angina ,3: non-anginal pain ,4: asymptomatic |\n",
    "| trestbps | Resting Blood Pressure (in mm Hg on admission to the hospital) |\n",
    "| chol | Serum Cholestoral in mg/dl |\n",
    "| fbs | (Fasting Blood Sugar > 120 mg/dl)  (1 = true; 0 = false) |\n",
    "| restecg | Resting Electrocardiographic Results 0: normal, 1: having ST-T wave abnormality, 2: showing probable or definite left ventricular hypertrophy |\n",
    "| thalach | Maximum Heart Rate Achieved |\n",
    "| exang | Exercise Induced Angina|\n",
    "| oldpeak | ST Depression Induced by Exercise Relative to Rest |\n",
    "| slope | Slope of The Peak Exercise ST Segment ,1: upsloping, 2: flat, 3: downsloping|\n",
    "| thal | 3 = normal; 6 = fixed defect; 7 = reversable defect |\n",
    "|ca|number of major vessels (0-3) colored by flourosopy|\n",
    "| num | Diagnosis of Heart Disease |"
   ]
  },
  {
   "cell_type": "markdown",
   "id": "4b36eefc-7e11-4b7a-b787-2ea9b7c4adeb",
   "metadata": {},
   "source": [
    "We are only interested in training data in the Preliminary Exploratory Data Analysis, so we will split that data from here:"
   ]
  },
  {
   "cell_type": "code",
   "execution_count": null,
   "id": "793ca82c-694d-42bf-b678-6c929b4af1e1",
   "metadata": {
    "tags": []
   },
   "outputs": [],
   "source": [
    "heart_train, heart_test =train_test_split(\n",
    "    heart_df,\n",
    "    test_size= 0.25,\n",
    "    random_state=2000,\n",
    ")\n",
    "\n",
    "X_train = heart_train.iloc[:,:-1]\n",
    "y_train = heart_train[\"num\"]\n",
    "\n",
    "X_test = heart_train.iloc[:,:-1]\n",
    "y_test = heart_test[\"num\"]"
   ]
  },
  {
   "cell_type": "code",
   "execution_count": null,
   "id": "9511f62f-a67c-4861-ba21-53ac2477fe52",
   "metadata": {
    "tags": []
   },
   "outputs": [],
   "source": [
    "heart_train"
   ]
  },
  {
   "cell_type": "code",
   "execution_count": null,
   "id": "69072435-ff01-4916-a815-5a9f2a1c3df9",
   "metadata": {},
   "outputs": [],
   "source": [
    "def details (df):\n",
    "    table_d = pd.DataFrame(df.dtypes, columns=[\"data_type\"])\n",
    "    table_d['#missing'] = df.isnull().sum().values\n",
    "    table_d['%missing'] = df.isnull().sum().values / len(df)\n",
    "    table_d['#unique'] = df.nunique().values\n",
    "    return table_d"
   ]
  },
  {
   "cell_type": "markdown",
   "id": "d3aaf5ad-b7f8-4c47-ba63-d1874e072a6b",
   "metadata": {},
   "source": [
    "Finding count, mean, std, min, 25%, 50%, 75% and max of each ID, results rounded to 2 decimal points."
   ]
  },
  {
   "cell_type": "code",
   "execution_count": null,
   "id": "f00737d1-be8c-4b3b-ac50-b0c0a2c823a6",
   "metadata": {
    "tags": []
   },
   "outputs": [],
   "source": [
    "round(heart_train.describe(),2)"
   ]
  },
  {
   "cell_type": "markdown",
   "id": "b31ede08-be57-4612-9cd1-fd6db46b7ab3",
   "metadata": {},
   "source": [
    "Checking for count of missing data, % of missing data, and count of unique data."
   ]
  },
  {
   "cell_type": "code",
   "execution_count": null,
   "id": "bf3feaaa-a740-4ba4-a1ab-9d9a14ba114f",
   "metadata": {
    "tags": []
   },
   "outputs": [],
   "source": [
    "details(heart_train)"
   ]
  },
  {
   "cell_type": "markdown",
   "id": "fd87e13d-6bff-48a4-b578-b6e95b45ee1b",
   "metadata": {},
   "source": [
    "### Data Visualization"
   ]
  },
  {
   "cell_type": "markdown",
   "id": "08bf04d6-186f-4088-8d6a-cf1fd24fca09",
   "metadata": {},
   "source": [
    "We are interested in how the number of patient would look like in different ID, so we plotted count vs columns ID accordingly in the following:"
   ]
  },
  {
   "cell_type": "code",
   "execution_count": null,
   "id": "14d5d3f5-5c63-48bd-b639-7f2246b431af",
   "metadata": {
    "tags": []
   },
   "outputs": [],
   "source": [
    "columns= ['age', 'sex', 'cp', 'trestbps', 'chol', 'fbs', 'restecg', 'thalach','exang', 'oldpeak', 'slope', 'ca', 'thal', 'num']\n",
    "fig, ax = plt.subplots(5, 3, figsize=(30, 40))\n",
    "ax = ax.flatten()\n",
    "fig.subplots_adjust(top=0.97)\n",
    "fig.suptitle(\"Count of Patient vs ID (Training Set)\",fontsize = 20)\n",
    "\n",
    "for i, f in enumerate(columns):\n",
    "    if heart_train[f].nunique() > 10:\n",
    "        sns.histplot(heart_train, ax=ax[i], x=f)\n",
    "    else:\n",
    "        sns.countplot(data=heart_train, ax=ax[i], x=f)\n",
    "        \n"
   ]
  },
  {
   "cell_type": "markdown",
   "id": "dc94fd21-e2bc-4437-9a29-3c4ad98a7743",
   "metadata": {},
   "source": [
    "## Methods"
   ]
  },
  {
   "cell_type": "markdown",
   "id": "f24db07f-daf8-4331-88e5-a60531c5a119",
   "metadata": {},
   "source": [
    "The goal of this project is to allow people at home to have an idea of if they should visit the doctor for a more detailed heart disease exam. Therefore, in our dataset, we would only keep data that could be easily obtained without need for professional medical equipment or testing. Therefore, we will drop: Number of Major Vessels, Resting Electrocardiographic Results, Slope of The Peak Exercise ST Segment, thal, and ST Depression Induced by Exercise Relative to Rest."
   ]
  },
  {
   "cell_type": "markdown",
   "id": "13cdb0dd-84e0-44b2-9487-674df59cd149",
   "metadata": {},
   "source": [
    "We are planning on doing 3 sets of diagrams per feature: a histogram/bar diagram for positive diagnosis of heart disease, a histogram/bar diagram for negative diagnosis of heart disease, and a stacked histogram/bar diagram for all diagnoses.\n"
   ]
  },
  {
   "cell_type": "markdown",
   "id": "24e14424-d852-4f02-abd3-b3519463f5e9",
   "metadata": {},
   "source": [
    "## Expected outcomes and significance"
   ]
  },
  {
   "cell_type": "markdown",
   "id": "61b559bd-3e13-42dc-b503-c303fab8afb9",
   "metadata": {},
   "source": [
    "We expect to find the correlation (if any) between numerous variables and heart disease. Based on previous research, we expect male patients of older age, high cholesterol, high blood sugar levels, high resting and post-exercise heart rate, to have higher rates of heart disease. "
   ]
  },
  {
   "cell_type": "markdown",
   "id": "f91142e0-757f-497d-95d8-a67e5898fd8d",
   "metadata": {},
   "source": [
    "This will allow patients to bypass waiting at a primary care clinic, often at risk of catching illness, and give themselves a preliminary diagnosis at home. Though this model should not replace the opinion of a primary care specialist, it may function to help the people determine their risk for heart disease. "
   ]
  },
  {
   "cell_type": "markdown",
   "id": "172238ba-db71-42c3-9efe-efdc9dcb438b",
   "metadata": {},
   "source": [
    "Additionally, this model can be used to examine trends in patient data and types of heart disease. If certain variables seem to always be correlated with a certain type of heart disease, further studies may be done to test this connection. "
   ]
  },
  {
   "cell_type": "markdown",
   "id": "5ee502f9-eeab-4cba-af90-eced98a13d29",
   "metadata": {
    "tags": []
   },
   "source": [
    "## What future questions could this lead to?"
   ]
  },
  {
   "cell_type": "markdown",
   "id": "a71c9424-d8e4-4a31-8d9a-f32904576fbf",
   "metadata": {},
   "source": [
    "- How can we keep advancing this model to diagnose heart disease earlier, more accurately, and in an unbiased manner? \n",
    "\n",
    "- Which variables have the biggest impact on heart disease?\n",
    "\n",
    "- How can we suggest potential lifestyle changes to patients in an unbiased manner?\n"
   ]
  },
  {
   "cell_type": "code",
   "execution_count": null,
   "id": "5668dea6-37e0-48d5-923f-419f83fca5f7",
   "metadata": {},
   "outputs": [],
   "source": []
  }
 ],
 "metadata": {
  "kernelspec": {
   "display_name": "Python 3 (ipykernel)",
   "language": "python",
   "name": "python3"
  },
  "language_info": {
   "codemirror_mode": {
    "name": "ipython",
    "version": 3
   },
   "file_extension": ".py",
   "mimetype": "text/x-python",
   "name": "python",
   "nbconvert_exporter": "python",
   "pygments_lexer": "ipython3",
   "version": "3.10.8"
  }
 },
 "nbformat": 4,
 "nbformat_minor": 5
}
